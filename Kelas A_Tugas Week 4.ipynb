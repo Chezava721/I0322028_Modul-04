{
 "cells": [
  {
   "cell_type": "code",
   "execution_count": null,
   "metadata": {},
   "outputs": [],
   "source": [
    "print(input(\"Nama: \"))\n",
    "print(input(\"NIM: \"))\n",
    "print(input(\"Kelas: \"))"
   ]
  },
  {
   "attachments": {},
   "cell_type": "markdown",
   "metadata": {},
   "source": [
    "## 1."
   ]
  },
  {
   "attachments": {},
   "cell_type": "markdown",
   "metadata": {},
   "source": [
    "Buatlah program persyaratan pembuatan SIM dengan input yaitu nama user, umur user, dan nilai tes user.<br>\n",
    "Dengan ketentuan mendapat SIM sebagai berikut:\n",
    "* Umur dari user harus lebih dari sama dengan 17 tahun\n",
    "* Nilai tes lebih dari sama dengan 70\n",
    "\n",
    "<br>Output yang dihasilkan dari program adalah:\n",
    "<br>\"Selamat Anda Berhak Mendapatkan SIM Anda\"\n",
    "<br>\"Maaf, Anda tidak berhak mendapatkan SIM anda\"\n",
    "> *note: Kerjakan soal ini dengan percabangan*"
   ]
  },
  {
   "cell_type": "code",
   "execution_count": 3,
   "metadata": {},
   "outputs": [
    {
     "name": "stdout",
     "output_type": "stream",
     "text": [
      "Selamat Anda Berhak Mendapatkan SIM Anda\n"
     ]
    }
   ],
   "source": [
    "nama = input(\"Masukkan nama\")\n",
    "usia = int(input(\"Masukkan usia\"))\n",
    "nilai =int(input(\"Masukkan nilai tes\"))\n",
    "\n",
    "if usia >= 17 and nilai >= 70 :\n",
    "    print(\"Selamat Anda Berhak Mendapatkan SIM Anda\")\n",
    "else :\n",
    "    print(\"Maaf, Anda tidak berhak mendapatkan SIM anda\")\n"
   ]
  },
  {
   "attachments": {},
   "cell_type": "markdown",
   "metadata": {},
   "source": [
    "## 2."
   ]
  },
  {
   "attachments": {},
   "cell_type": "markdown",
   "metadata": {},
   "source": [
    "Buatlah program untuk mencari bilangan terbesar yang diinput dari user.<br>\n",
    "<br>Dengan ketentuan sebagai berikut:\n",
    "* Program nenerima 3 input bilangan dari user\n",
    "* Program akan menentukan mana bilangan terbesar\n",
    "* Output yang akan dihasilkan misalnya adalah \"Dari bil_1, bil_2, dan bil_3, bilangan terbesarnya adalah bilangan bil_2\"\n",
    "> *note: Kerjakan soal ini dengan percabangan*"
   ]
  },
  {
   "cell_type": "code",
   "execution_count": 4,
   "metadata": {},
   "outputs": [
    {
     "name": "stdout",
     "output_type": "stream",
     "text": [
      "Dari bilangan 3, 5, 7, Bilangan terbesar adalah 7\n"
     ]
    }
   ],
   "source": [
    "x= int(input('Masukkan bilangan pertama'))\n",
    "y= int(input('Masukkan bilangan kedua'))\n",
    "z= int(input('Masukkan bilangan ketiga'))\n",
    "\n",
    "if x > y :\n",
    "    if x > z :\n",
    "        print(f'Dari bilangan {x}, {y}, {z}, Bilangan terbesar adalah {x}')\n",
    "    else :\n",
    "        print(f'Dari bilangan {x}, {y}, {z}, Bilangan terbesar adalah {z}')\n",
    "elif y > z :\n",
    "    if x > y :\n",
    "        print(f'Dari bilangan {x}, {y}, {z}, Bilangan terbesar adalah {x}')\n",
    "    else :\n",
    "        print(f'Dari bilangan {x}, {y}, {z}, Bilangan terbesar adalah {y}')\n",
    "else :\n",
    "    print(f'Dari bilangan {x}, {y}, {z}, Bilangan terbesar adalah {z}')\n"
   ]
  }
 ],
 "metadata": {
  "kernelspec": {
   "display_name": "Python 3",
   "language": "python",
   "name": "python3"
  },
  "language_info": {
   "codemirror_mode": {
    "name": "ipython",
    "version": 3
   },
   "file_extension": ".py",
   "mimetype": "text/x-python",
   "name": "python",
   "nbconvert_exporter": "python",
   "pygments_lexer": "ipython3",
   "version": "3.10.7"
  },
  "orig_nbformat": 4
 },
 "nbformat": 4,
 "nbformat_minor": 2
}
